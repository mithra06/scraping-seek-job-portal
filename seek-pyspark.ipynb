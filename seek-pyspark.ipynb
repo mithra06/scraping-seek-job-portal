{
 "cells": [
  {
   "cell_type": "code",
   "execution_count": null,
   "id": "f99fc4bc",
   "metadata": {},
   "outputs": [],
   "source": [
    "import os\n",
    "os.environ['PYSPARK_SUBMIT_ARGS'] = '--conf spark.ui.port=4040 --packages org.apache.spark:spark-streaming-kafka-0-8_2.11:2.0.0,com.datastax.spark:spark-cassandra-connector_2.11:2.0.0-M3 pyspark-shell'\n",
    "import time"
   ]
  },
  {
   "cell_type": "code",
   "execution_count": null,
   "id": "837581d4",
   "metadata": {},
   "outputs": [
    {
     "name": "stdout",
     "output_type": "stream",
     "text": [
      "spark started\n",
      "root\n",
      " |-- key: binary (nullable = true)\n",
      " |-- value: binary (nullable = true)\n",
      " |-- topic: string (nullable = true)\n",
      " |-- partition: integer (nullable = true)\n",
      " |-- offset: long (nullable = true)\n",
      " |-- timestamp: timestamp (nullable = true)\n",
      " |-- timestampType: integer (nullable = true)\n",
      "\n",
      "root\n",
      " |-- description: string (nullable = true)\n",
      " |-- title: string (nullable = true)\n",
      " |-- salary: string (nullable = true)\n",
      " |-- company: string (nullable = true)\n",
      " |-- location: string (nullable = true)\n",
      " |-- class: string (nullable = true)\n",
      " |-- days_before: string (nullable = true)\n",
      " |-- timestamp: timestamp (nullable = true)\n",
      "\n"
     ]
    }
   ],
   "source": [
    "import pyspark_cassandra\n",
    "\n",
    "from pyspark.sql import SparkSession\n",
    "from pyspark.sql.types import *\n",
    "from pyspark.sql.functions import *\n",
    "import time\n",
    "\n",
    "topic_name=\"seek-jobs\"\n",
    "cass_host=\"localhost\"\n",
    "cass_port=\"9042\"\n",
    "cass_keyspace=\"client\"\n",
    "cass_table_name=\"info\"\n",
    "\n",
    "def save_to_cassandra(df,epoch):\n",
    "    print(epoch)\n",
    "    df.write.format(\"org.apache.spark.sql.cassandra\") \\\n",
    "    .mode(\"append\")\\\n",
    "    .options(table=cass_table_name,keyspace=cass_keyspace).save()\n",
    "if __name__ == '__main__':\n",
    "    print(\"spark started\")\n",
    "    spark = SparkSession.builder.appName('hello').master('local[*]') \\\n",
    "     .config(\"spark.jars.packages\", \"org.apache.spark:spark-sql-kafka-0-10_2.12:3.3.0\")\\\n",
    "      .getOrCreate()\n",
    "          \n",
    "      \n",
    "    df = spark.readStream.format(\"kafka\").option(\"kafka.bootstrap.servers\",\"localhost:9092\") \\\n",
    "    .option(\"subscribe\",topic_name).option(\"startingOffsets\",\"latest\").load()\n",
    "    #print(stream_df.isStreaming) \n",
    "    \n",
    "    df.printSchema()\n",
    "    \n",
    "    stream_df1 = df.selectExpr(\"CAST(value AS STRING)\",\"timestamp\")\n",
    "    stream_schema = StructType().add(\"description\",StringType()).add(\"title\",StringType()) \\\n",
    "    .add(\"salary\",StringType()).add(\"company\",StringType()).add(\"location\",StringType()) \\\n",
    "    .add(\"class\",StringType()).add(\"days_before\",StringType())\n",
    "\n",
    "    stream_df2 = stream_df1.select(from_json(col(\"value\"), stream_schema).alias(\"stream\"),\"timestamp\")\n",
    "\n",
    "    stream_df3=stream_df2.select(\"stream.*\",\"timestamp\")\n",
    "    stream_df3.printSchema()\n",
    "    stream_df4= stream_df3.groupBy(\"class\").count()\n",
    "    \n",
    "    \n",
    "    \n",
    "    \n",
    "\n",
    "    write_df = stream_df4.writeStream \\\n",
    "     .trigger(processingTime='15 seconds') \\\n",
    "     .outputMode(\"update\")\\\n",
    "     .format(\"console\").start()\n",
    "     #.foreachBatch(save_to_cassandra)\\\n",
    "     \n",
    "    \n",
    "\n",
    "    write_df.awaitTermination()\n"
   ]
  },
  {
   "cell_type": "code",
   "execution_count": null,
   "id": "45ab9300",
   "metadata": {},
   "outputs": [],
   "source": []
  }
 ],
 "metadata": {
  "kernelspec": {
   "display_name": "Python 3 (ipykernel)",
   "language": "python",
   "name": "python3"
  },
  "language_info": {
   "codemirror_mode": {
    "name": "ipython",
    "version": 3
   },
   "file_extension": ".py",
   "mimetype": "text/x-python",
   "name": "python",
   "nbconvert_exporter": "python",
   "pygments_lexer": "ipython3",
   "version": "3.9.12"
  }
 },
 "nbformat": 4,
 "nbformat_minor": 5
}
